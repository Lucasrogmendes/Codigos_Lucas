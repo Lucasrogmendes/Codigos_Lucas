{
 "cells": [
  {
   "cell_type": "code",
   "execution_count": 2,
   "id": "2926d44f",
   "metadata": {},
   "outputs": [
    {
     "name": "stdout",
     "output_type": "stream",
     "text": [
      "Média: 6.75 — Situação: Recuperação ⚠️\n"
     ]
    }
   ],
   "source": [
    "n1 = float(input(\"Digite a 1ª nota:\"))\n",
    "n2 = float(input(\"Digite a 2ª nota:\"))\n",
    "n3 = float(input(\"Digite a 3ª nota:\"))\n",
    "n4 = float(input(\"Digite a 4ª nota:\"))\n",
    "\n",
    "media = (n1 + n2 + n3 + n4) / 4\n",
    "\n",
    "if media >= 7.0 and media <10.0:\n",
    "    print(f\"Média: {round(media, 2)} — Situação: Aprovado(a) ✅\")\n",
    "elif media >= 5.0 and media <7.0:\n",
    "    print(f\"Média: {round(media, 2)} — Situação: Recuperação ⚠️\")\n",
    "elif media <5.0:\n",
    "    print(f\"Média: {round(media, 2)} — Situação: Reprovado(a) ❌\")\n",
    "else:\n",
    "    print(\"situaçao invalida tente novamente\")\n",
    "  "
   ]
  }
 ],
 "metadata": {
  "kernelspec": {
   "display_name": "Python 3",
   "language": "python",
   "name": "python3"
  },
  "language_info": {
   "codemirror_mode": {
    "name": "ipython",
    "version": 3
   },
   "file_extension": ".py",
   "mimetype": "text/x-python",
   "name": "python",
   "nbconvert_exporter": "python",
   "pygments_lexer": "ipython3",
   "version": "3.13.2"
  }
 },
 "nbformat": 4,
 "nbformat_minor": 5
}
