{
 "cells": [
  {
   "cell_type": "markdown",
   "id": "4f7a1d42",
   "metadata": {},
   "source": [
    "### Jogo de advinhação\n",
    "\n",
    "Vamos criar um jogo que advinha o número que o usuário digitou!!\n"
   ]
  },
  {
   "cell_type": "code",
   "execution_count": 2,
   "id": "5fa02260",
   "metadata": {},
   "outputs": [
    {
     "name": "stdout",
     "output_type": "stream",
     "text": [
      "Jogo de advinhação!!! Boa Sorte!!\n",
      "------------------------------------\n",
      "hahahahah seu trouxa, aposto que acertei o numero numero que vc digitou,ne deve 50tao.\n",
      "aposto que o numero foi 10000.0\n"
     ]
    }
   ],
   "source": [
    "print(\"Jogo de advinhação!!! Boa Sorte!!\")\n",
    "print(\"------------------------------------\")\n",
    "## o número deve ser float, pois deve aceitar tanto números inteiros, quanto números quebrados\n",
    "numero_usuario = float(input(\"digite um numero seu trouxa :\"))\n",
    "print(f\"hahahahah seu trouxa, aposto que acertei o numero numero que vc digitou,ne deve 50tao.\")\n",
    "print(f\"aposto que o numero foi {numero_usuario}\")\n"
   ]
  },
  {
   "cell_type": "markdown",
   "id": "56cf80bf",
   "metadata": {},
   "source": [
    "### Meu carro do sonho\n",
    "\n",
    "Vamos pedir para o usuário nos informar o nome do carro e o preço do carro dos sonhos deles."
   ]
  },
  {
   "cell_type": "code",
   "execution_count": 1,
   "id": "7d9330a4",
   "metadata": {},
   "outputs": [
    {
     "name": "stdout",
     "output_type": "stream",
     "text": [
      "Você tem R$ 100000000.00 guardado!\n",
      "\n",
      "--- SONHO DO CARRO ---\n",
      "dodge demon valor dele é :8000000.0\n",
      "falta -99200000.0\n"
     ]
    }
   ],
   "source": [
    "# 1º Primeiro peça ao usuário o nome do carro dos sonhos:\n",
    "nome_carro = input(\"Informe o nome do seu carro do sonho :\")\n",
    "# 2º Peça o preço do carro dos sonhos\n",
    "preço_carro = float(input(\"Qual o preço do carro do seus sonhos :\"))\n",
    "# 3º Pergunte quanto dinheiro o usuário tem e guarde o valor em uma variável\n",
    "dinheiro = float(input(\"Quanto dinheiro você tem? R$ \"))\n",
    "print(f\"Você tem R$ {dinheiro:.2f} guardado!\")\n",
    "# 4º Calcule quanto falta para o usuário conseguir comprar o carro\n",
    "preco_carro = 800000\n",
    "falta = preco_carro - dinheiro\n",
    "# 5º Mostre na tela o nome do carro o preço dele e quanto falta para o usuário realizar o sonho dele.\n",
    "print(\"\\n--- SONHO DO CARRO ---\")\n",
    "print(f\"{nome_carro} valor dele é :{preço_carro}\")\n",
    "print(f\"falta {preco_carro - dinheiro}\")\n",
    "\n",
    "\n",
    "\n"
   ]
  },
  {
   "cell_type": "markdown",
   "id": "d28ba737",
   "metadata": {},
   "source": [
    "### Agenda de Celular\n",
    "\n",
    "Peça ao usuário que informe o nome dele e o número do telefone dele\n",
    "\n",
    "Depois mostre ao usuário print() com uma mensagem o nome dele e o número do telefone"
   ]
  },
  {
   "cell_type": "code",
   "execution_count": 17,
   "id": "3037f6bb",
   "metadata": {},
   "outputs": [
    {
     "name": "stdout",
     "output_type": "stream",
     "text": [
      "Usuario : Lucasrogmendes\n",
      "Numero : 11914851858\n"
     ]
    }
   ],
   "source": [
    "# preciso pedir o nome do usuário\n",
    "usuario = input(\"Nome do usuario\")\n",
    "#preciso pedir o telefone\n",
    "numero = input(\"Qual seu numero de telefone\")\n",
    "# mostrar as informações\n",
    "print(f\"Usuario : {usuario}\")\n",
    "print(f\"Numero : {numero}\")\n",
    "\n"
   ]
  },
  {
   "cell_type": "markdown",
   "id": "3312349f",
   "metadata": {},
   "source": [
    "### Adivinha a idade\n",
    "\n",
    "preciso do ano do nascimento e o ano atual\n",
    "\n",
    "formula = ano_atual - ano_nascimento\n",
    "\n",
    "tipo da variavel int"
   ]
  },
  {
   "cell_type": "code",
   "execution_count": 33,
   "id": "cdb1525d",
   "metadata": {},
   "outputs": [
    {
     "name": "stdout",
     "output_type": "stream",
     "text": [
      "Eu acho que vc tem 92\n"
     ]
    }
   ],
   "source": [
    "ano_atual = int(input(\"Em que ano estamos?\"))\n",
    "ano_nascimento = int(input(\"Em que ano vc nasceu\"))\n",
    "total = ano_atual - ano_nascimento\n",
    "print(f\"Eu acho que vc tem {total}\")"
   ]
  }
 ],
 "metadata": {
  "kernelspec": {
   "display_name": "Python 3",
   "language": "python",
   "name": "python3"
  },
  "language_info": {
   "codemirror_mode": {
    "name": "ipython",
    "version": 3
   },
   "file_extension": ".py",
   "mimetype": "text/x-python",
   "name": "python",
   "nbconvert_exporter": "python",
   "pygments_lexer": "ipython3",
   "version": "3.13.2"
  }
 },
 "nbformat": 4,
 "nbformat_minor": 5
}
