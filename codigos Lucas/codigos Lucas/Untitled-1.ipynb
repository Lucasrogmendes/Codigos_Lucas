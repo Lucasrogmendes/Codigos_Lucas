{
 "cells": [
  {
   "cell_type": "markdown",
   "id": "fe0ef72e",
   "metadata": {},
   "source": [
    "### Titulo"
   ]
  },
  {
   "cell_type": "code",
   "execution_count": null,
   "id": "df56b79e",
   "metadata": {},
   "outputs": [
    {
     "name": "stdout",
     "output_type": "stream",
     "text": [
      "10000\n"
     ]
    }
   ],
   "source": [
    "print(100*100)"
   ]
  },
  {
   "cell_type": "code",
   "execution_count": 1,
   "id": "61144661",
   "metadata": {},
   "outputs": [
    {
     "name": "stdout",
     "output_type": "stream",
     "text": [
      "Jogo de adivinhação!!! Boa Sorte!!\n",
      "----------------------------------\n",
      "O número que você digitou foi 10.0 hahahaha acertei\n"
     ]
    }
   ],
   "source": [
    "print(\"Jogo de adivinhação!!! Boa Sorte!!\")\n",
    "print(\"----------------------------------\")\n",
    "\n",
    "# Pede para o usuário digitar um número\n",
    "numero = float(input(\"Digite um número (pode ser quebrado): \"))\n",
    "\n",
    "# Mostra que \"adivinhou\" o número\n",
    "print(f\"O número que você digitou foi {numero} hahahaha acertei\")\n"
   ]
  }
 ],
 "metadata": {
  "kernelspec": {
   "display_name": "Python 3",
   "language": "python",
   "name": "python3"
  },
  "language_info": {
   "codemirror_mode": {
    "name": "ipython",
    "version": 3
   },
   "file_extension": ".py",
   "mimetype": "text/x-python",
   "name": "python",
   "nbconvert_exporter": "python",
   "pygments_lexer": "ipython3",
   "version": "3.13.2"
  }
 },
 "nbformat": 4,
 "nbformat_minor": 5
}
