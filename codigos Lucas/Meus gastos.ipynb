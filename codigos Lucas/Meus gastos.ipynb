{
 "cells": [
  {
   "cell_type": "markdown",
   "id": "9212a012",
   "metadata": {},
   "source": [
    "### CLT"
   ]
  },
  {
   "cell_type": "code",
   "execution_count": 5,
   "id": "46a03293",
   "metadata": {},
   "outputs": [
    {
     "name": "stdout",
     "output_type": "stream",
     "text": [
      "ficara devendo 3870\n"
     ]
    }
   ],
   "source": [
    "salario = 1200\n",
    "ga = 200\n",
    "inte = 200\n",
    "ali = 1500\n",
    "agu = 100\n",
    "Luz = 300\n",
    "cond = 570\n",
    "entr = 1200\n",
    "\n",
    "quanto_sobra = inte + ali + agu + Luz + cond + entr \n",
    "print(f\"ficara devendo {quanto_sobra}\")"
   ]
  },
  {
   "cell_type": "markdown",
   "id": "a443ea87",
   "metadata": {},
   "source": [
    "### Meus gastos"
   ]
  },
  {
   "cell_type": "code",
   "execution_count": 7,
   "id": "416a0dce",
   "metadata": {},
   "outputs": [
    {
     "name": "stdout",
     "output_type": "stream",
     "text": [
      "eu gasto 300\n"
     ]
    }
   ],
   "source": [
    "pensão = 300\n",
    "Academia = 90\n",
    "passagem = 80\n",
    "comida = 60 \n",
    "entreterimento = 25\n",
    "sos = 45\n",
    "\n",
    "meus_gastos = Academia + passagem + comida + entreterimento + sos \n",
    "print(f\"eu gasto {meus_gastos}\")\n",
    "\n"
   ]
  }
 ],
 "metadata": {
  "kernelspec": {
   "display_name": "Python 3",
   "language": "python",
   "name": "python3"
  },
  "language_info": {
   "codemirror_mode": {
    "name": "ipython",
    "version": 3
   },
   "file_extension": ".py",
   "mimetype": "text/x-python",
   "name": "python",
   "nbconvert_exporter": "python",
   "pygments_lexer": "ipython3",
   "version": "3.13.2"
  }
 },
 "nbformat": 4,
 "nbformat_minor": 5
}
