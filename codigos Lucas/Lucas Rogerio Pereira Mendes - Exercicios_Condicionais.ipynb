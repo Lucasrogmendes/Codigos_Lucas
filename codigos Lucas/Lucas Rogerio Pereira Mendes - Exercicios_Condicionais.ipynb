{
 "cells": [
  {
   "cell_type": "markdown",
   "id": "633160a3",
   "metadata": {},
   "source": [
    "### 📝Lista de Exercícios: Condicionais IF/ELSE"
   ]
  },
  {
   "cell_type": "markdown",
   "id": "605d2a7e",
   "metadata": {},
   "source": [
    "Exercício 1 - Maioridade 🔞\n",
    "\n",
    "Crie um programa que pergunta a idade do usuário e diz se ele é maior ou menor de idade."
   ]
  },
  {
   "cell_type": "code",
   "execution_count": 5,
   "id": "93ea230f",
   "metadata": {},
   "outputs": [
    {
     "name": "stdout",
     "output_type": "stream",
     "text": [
      "vc é maior de idade\n"
     ]
    }
   ],
   "source": [
    "idade = int(input(\"Quantos anos você tem? \"))\n",
    "\n",
    "# Complete o código aqui\n",
    "\n",
    "if idade>=18:\n",
    " print(\"vc é maior de idade\")\n",
    "else: \n",
    " print(\"vc é menor de idade \")"
   ]
  },
  {
   "cell_type": "markdown",
   "id": "6e9528f5",
   "metadata": {},
   "source": [
    "Exercício 2 - Aprovação na Prova 🧠\n",
    "\n",
    "Faça um programa que pergunte a nota de um aluno (0 a 10) e diz se ele foi aprovado(nota >= 5) ou reprovado (nota <5)."
   ]
  },
  {
   "cell_type": "code",
   "execution_count": 1,
   "id": "4a9f8f8b",
   "metadata": {},
   "outputs": [
    {
     "name": "stdout",
     "output_type": "stream",
     "text": [
      "recuperação\n"
     ]
    }
   ],
   "source": [
    "nota = float(input(\"Informe a sua nota de (0 a 10)\"))\n",
    "\n",
    "# Complete o código aqui\n",
    "if nota >7:\n",
    "    print (\"aprovado\")\n",
    "elif nota >5:\n",
    "    print (\"recuperação\")\n",
    "else:\n",
    "    print (\"reprovado\")"
   ]
  },
  {
   "cell_type": "markdown",
   "id": "9f8e9b92",
   "metadata": {},
   "source": [
    "Exercicio 3 - CNH 🚘🚙\n",
    "\n",
    " 1º - Peça ao usuário que digite a idade dele.\n",
    "\n",
    " 2º - Peça pra ele dizer se foi aprovado ou reprovado no curso de cnh.\n",
    "\n",
    " 3º - Use if e else para verificar se ele tem 18 anos ou mais e se foi aprovado.\n",
    "\n",
    " 4º - Se as condições do passo 3 estiverem certas, print(\"pode dirigir\").\n",
    " \n",
    " 5º - Se não print(\"vai andar a pé\")"
   ]
  },
  {
   "cell_type": "code",
   "execution_count": null,
   "id": "bee9f043",
   "metadata": {},
   "outputs": [],
   "source": [
    "\n",
    "idade = int(input('Qual é a sua idade?'))\n",
    "\n",
    "if idade >= 18:\n",
    "\n",
    "    cnh = int(input('vc foi aprovado ou reprovado no curso de cnh? (1 para sim/ 2 para não)'))\n",
    "    if cnh == 1:\n",
    "        print('Pode dirigir')\n",
    "    else:\n",
    "        print('Não pode dirigir')\n",
    "\n",
    "else:\n",
    "    print('Não pode dirigir')"
   ]
  },
  {
   "cell_type": "markdown",
   "id": "e9c60d12",
   "metadata": {},
   "source": [
    "Exercício 4 - Calculadora de Desconto. 💵 🤑\n",
    "\n",
    "Uma loja dá 10% de desconto para compras acima de R$ 100,00. Faça um programa que:\n",
    "\n",
    "1º - Pergunta o valor da compra.\n",
    "\n",
    "2º - Calcula o valor final com desconto (se aplicável).\n",
    "\n",
    "3º - Mostra o valor a pagar."
   ]
  },
  {
   "cell_type": "code",
   "execution_count": 36,
   "id": "5edc8855",
   "metadata": {},
   "outputs": [
    {
     "name": "stdout",
     "output_type": "stream",
     "text": [
      "preço que pagara R$ 90.0\n"
     ]
    }
   ],
   "source": [
    "### Seu código aqui\n",
    "preço = float(input(\"qual o preço do seu produto?\"))\n",
    "if preço >= 100:\n",
    "    preço_final = preço * 0.9\n",
    "else:\n",
    "    preço_final = preço \n",
    "\n",
    "print(f\"preço que pagara R$ {preço_final}\")\n",
    "\n"
   ]
  },
  {
   "cell_type": "markdown",
   "id": "ec96b43c",
   "metadata": {},
   "source": [
    "Exercício 5 - Classificação de Notas 🧑‍🎓\n",
    "\n",
    "Pergunte a nota de um aluno e dependendo da nota que ele informar, o classifique de acordo com as regras abaixo:\n",
    "\n",
    "Classifique a nota do aluno:\n",
    "\n",
    "- 9 até 10: \"Excelente\"\n",
    "\n",
    "- 7 até 8.9: \"Bom\"\n",
    "\n",
    "- 5 até 6.9: \"Regular\"\n",
    "\n",
    "- 0 até 4.9: \"Reprovado\"\n",
    "\n",
    "mostre para o aluno a classificação dele através de um print, exemplo print(\"Excelente\")."
   ]
  },
  {
   "cell_type": "code",
   "execution_count": 51,
   "id": "465c6812",
   "metadata": {},
   "outputs": [
    {
     "name": "stdout",
     "output_type": "stream",
     "text": [
      "Reprovado\n"
     ]
    }
   ],
   "source": [
    "nota = float(input(\"Informe a sua nota de (0 a 10)\"))\n",
    "\n",
    "# Complete o código aqui\n",
    "if nota >=9 and nota <=10:\n",
    "    print(\"Excelente\")\n",
    "elif nota >=7 and nota <=8.9:\n",
    "    print(\"Bom\")\n",
    "elif nota >=5 and nota <=6.9:\n",
    "    print(\"Regular\")\n",
    "else:\n",
    "    print(\"Reprovado\")"
   ]
  },
  {
   "cell_type": "markdown",
   "id": "251b0fa7",
   "metadata": {},
   "source": [
    "Exercício 6 - Acesso ao Sistema 🔑\n",
    "\n",
    "Crie um login simples:\n",
    "\n",
    "- usuario_correto = \"admin\"\n",
    "\n",
    "- senha_correta = \"1234\"\n",
    "\n",
    "**Peça para o usuário digitar primeiro o login e depois a senha, caso login e senha estejam corretos programa deve mostrar \"Acesso permitido\" se não \"Acesso negado\"**\n"
   ]
  },
  {
   "cell_type": "code",
   "execution_count": null,
   "id": "7fcf16db",
   "metadata": {},
   "outputs": [
    {
     "name": "stdout",
     "output_type": "stream",
     "text": [
      "usuario correto\n",
      "senha correta\n"
     ]
    }
   ],
   "source": [
    "usuario_correto = \"admin\"\n",
    "senha_correta = \"1234\"\n",
    "Login = input(\"Qual o seu usuario? : \")\n",
    "senha = input(\"digite a sua senha? : \")\n",
    "if Login == usuario_correto:\n",
    "    print(\"acesso permitido\")\n",
    "else:\n",
    "    print(\"acesso negado\")\n",
    "if senha == senha_correta:\n",
    "    print(\"acesso permitido\")\n",
    "else:\n",
    "    print(\"acesso negado\")\n"
   ]
  },
  {
   "cell_type": "markdown",
   "id": "46c27406",
   "metadata": {},
   "source": [
    "Exercício 7 - Maior Número 📉\n",
    "\n",
    "Peça 3 números e mostre qual é o maior deles."
   ]
  },
  {
   "cell_type": "code",
   "execution_count": null,
   "id": "916439ff",
   "metadata": {},
   "outputs": [
    {
     "name": "stdout",
     "output_type": "stream",
     "text": [
      "maior numero 2\n"
     ]
    }
   ],
   "source": [
    "num1 = int(input(\"Digite um numero\"))\n",
    "num2 = int(input(\"Digite um numero\"))\n",
    "num3 = int(input(\"Digite um numero\"))\n",
    "maior = max(num1,num2,num3)\n",
    "print (f\"maior numero {maior}\")\n"
   ]
  },
  {
   "cell_type": "markdown",
   "id": "984fe0fe",
   "metadata": {},
   "source": [
    "Exercício 8 - Dia da Semana\n",
    "Peça um número de 1 a 7 e mostre o dia da semana correspondente: 📅\n",
    "\n",
    "- 1: Domingo\n",
    "\n",
    "- 2: Segunda\n",
    "\n",
    "- ... até 7: Sábado"
   ]
  },
  {
   "cell_type": "code",
   "execution_count": 75,
   "id": "f34c6fbf",
   "metadata": {},
   "outputs": [
    {
     "name": "stdout",
     "output_type": "stream",
     "text": [
      "terça\n"
     ]
    }
   ],
   "source": [
    "semana = int(input(\"digite um numero para saber o dia da semana\"))\n",
    "if semana ==1:\n",
    "     print(\"segunda\")\n",
    "elif semana ==2:\n",
    "    print(\"terça\")\n",
    "elif semana ==3:\n",
    "    print(\"quarta\")\n",
    "elif semana ==4:\n",
    "    print(\"quinta\")\n",
    "elif semana ==5:\n",
    "    print(\"sexta\")\n",
    "elif semana ==6:\n",
    "    print(\"sabado\")\n",
    "else:\n",
    "    print(\"domingo\")\n",
    "   "
   ]
  },
  {
   "cell_type": "markdown",
   "id": "f1f760b7",
   "metadata": {},
   "source": [
    "Exercício 9 - Calculadora Simples 📏📐\n",
    "\n",
    "- Faça uma calculadora que:\n",
    "\n",
    "- Pede dois números\n",
    "\n",
    "- Pede a operação (+, -, *, /)\n",
    "\n",
    "- Dependendo da operação mostre o resultado.\n",
    "\n"
   ]
  },
  {
   "cell_type": "code",
   "execution_count": 48,
   "id": "95c6ce03",
   "metadata": {},
   "outputs": [
    {
     "name": "stdout",
     "output_type": "stream",
     "text": [
      "Soma: 1010.0\n",
      "Subtração: 990.0\n",
      "Multiplicação: 10000.0\n",
      "Divisão: 100.0\n"
     ]
    }
   ],
   "source": [
    "###Calculadora Simples\n",
    "a = float(input(\"Diga o primeito numero da conta\"))\n",
    "b = float(input(\"Diga o outro numero da conta\"))\n",
    "\n",
    "\n",
    "\n",
    "soma = a + b\n",
    "subtraçao = a - b\n",
    "multiplicacao = a * b\n",
    "divisao = a / b\n",
    "\n",
    "print(\"Soma:\", soma)\n",
    "print(\"Subtração:\", subtraçao)\n",
    "print(\"Multiplicação:\", multiplicacao)\n",
    "print(\"Divisão:\", divisao)"
   ]
  },
  {
   "cell_type": "markdown",
   "id": "f39f6b73",
   "metadata": {},
   "source": [
    "Exercício 10 - Sistema de Multas 🚙🚘🧾\n",
    "\n",
    "\n",
    "- Velocidade máxima: 80 km/h 🚫\n",
    "\n",
    "- Até 80: \"Sem multa\"\n",
    "\n",
    "- 81-100: \"Multa leve\"\n",
    "\n",
    "- Acima de 100: \"Multa grave\""
   ]
  },
  {
   "cell_type": "code",
   "execution_count": 3,
   "id": "20fdc977",
   "metadata": {},
   "outputs": [
    {
     "name": "stdout",
     "output_type": "stream",
     "text": [
      "Sem multa\n"
     ]
    }
   ],
   "source": [
    "velocidade = float(input(\"Em qual velocidade vc estava? \"))\n",
    "if velocidade >=100:\n",
    "    print(\"Multa grave, ande mais devagar!!\")\n",
    "elif velocidade <=80:\n",
    "    print(\"Sem multa\")\n",
    "else:\n",
    "    print(\"multa leve\")\n",
    "\n",
    "\n"
   ]
  }
 ],
 "metadata": {
  "kernelspec": {
   "display_name": "Python 3",
   "language": "python",
   "name": "python3"
  },
  "language_info": {
   "codemirror_mode": {
    "name": "ipython",
    "version": 3
   },
   "file_extension": ".py",
   "mimetype": "text/x-python",
   "name": "python",
   "nbconvert_exporter": "python",
   "pygments_lexer": "ipython3",
   "version": "3.13.2"
  }
 },
 "nbformat": 4,
 "nbformat_minor": 5
}
