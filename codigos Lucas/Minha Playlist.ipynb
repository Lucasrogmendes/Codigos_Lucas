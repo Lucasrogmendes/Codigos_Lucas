{
 "cells": [
  {
   "cell_type": "markdown",
   "id": "2212460b",
   "metadata": {},
   "source": [
    "Minha Playlist"
   ]
  },
  {
   "cell_type": "code",
   "execution_count": 2,
   "id": "de7c0157",
   "metadata": {},
   "outputs": [
    {
     "name": "stdout",
     "output_type": "stream",
     "text": [
      "Astrothunder\n"
     ]
    }
   ],
   "source": [
    "minha_lista = [\"Sicko mode\", \"goosebumps\", \"Astrothunder\", \"sdp interlude\", \"trance\"]\n",
    "print (minha_lista[2])"
   ]
  }
 ],
 "metadata": {
  "kernelspec": {
   "display_name": "Python 3",
   "language": "python",
   "name": "python3"
  },
  "language_info": {
   "codemirror_mode": {
    "name": "ipython",
    "version": 3
   },
   "file_extension": ".py",
   "mimetype": "text/x-python",
   "name": "python",
   "nbconvert_exporter": "python",
   "pygments_lexer": "ipython3",
   "version": "3.13.2"
  }
 },
 "nbformat": 4,
 "nbformat_minor": 5
}
