{
 "cells": [
  {
   "cell_type": "markdown",
   "id": "d2b6c514",
   "metadata": {},
   "source": [
    "### 🚀 Exercícios Melhorados de Python: Listas e Loops for"
   ]
  },
  {
   "cell_type": "markdown",
   "id": "44a3875e",
   "metadata": {},
   "source": [
    "### 🔍 1. Filtro de Filmes por Gênero 🎬\n",
    "\n",
    "Desafio:\n",
    "\n",
    "Crie um loop for para percorrer a lista de filmes e de gêneros e depois mostre na tela apenas os filmes de ação."
   ]
  },
  {
   "cell_type": "code",
   "execution_count": null,
   "id": "365515ab",
   "metadata": {},
   "outputs": [
    {
     "name": "stdout",
     "output_type": "stream",
     "text": [
      "O Poderoso Chefão não é um filme de ação\n",
      "Vingadores : Ultimato, é um filme de ação\n",
      "Toy Story não é um filme de ação\n",
      "Velozes e Furiosos, é um filme de ação\n",
      "Missão Impossível, é um filme de ação\n",
      "De Volta para o Futuro não é um filme de ação\n",
      "Zodiaco não é um filme de ação\n"
     ]
    }
   ],
   "source": [
    "filmes = [\"O Poderoso Chefão\", \"Vingadores : Ultimato\", \"Toy Story\", \"Velozes e Furiosos\", \"Missão Impossível\", \"De Volta para o Futuro\",\"Zodiaco\"]\n",
    "generos = [\"Drama\", \"Ação\", \"Animação\", \"Ação\",\"Ação\", \"Aventura\", \"Suspense\"]\n",
    "\n",
    "### Seu código aqui\n",
    "for item in range(len(filmes)):\n",
    "    if generos[item] == \"Ação\":\n",
    "        print(f\"{filmes[item]}, é um filme de ação\")\n",
    "    else:\n",
    "        print(f\"{filmes[item]} não é um filme de ação\")\n",
    "  \n",
    "  \n"
   ]
  },
  {
   "cell_type": "markdown",
   "id": "4def914a",
   "metadata": {},
   "source": [
    "Agora crie um código que verfique a nota de cada filme e recomende para o usuário os filmes com notas superioes a 7.0"
   ]
  },
  {
   "cell_type": "code",
   "execution_count": 22,
   "id": "52470059",
   "metadata": {},
   "outputs": [
    {
     "name": "stdout",
     "output_type": "stream",
     "text": [
      "O Poderoso Chefão, recomendo ele pois a nota dele é : 9.0\n",
      "Vingadores : Ultimato, recomendo ele pois a nota dele é : 9.5\n",
      "Toy Story, recomendo ele pois a nota dele é : 10\n",
      "Velozes e Furiosos, não recomendo ele pois a nota dele é : 5.2\n",
      "Missão Impossível, recomendo ele pois a nota dele é : 8.0\n",
      "De Volta para o Futuro, recomendo ele pois a nota dele é : 10\n",
      "Zodiaco, recomendo ele pois a nota dele é : 9.8\n",
      "Thunderbolts, não recomendo ele pois a nota dele é : 5.5\n"
     ]
    }
   ],
   "source": [
    "filmes = [\"O Poderoso Chefão\", \"Vingadores : Ultimato\", \"Toy Story\", \"Velozes e Furiosos\", \"Missão Impossível\", \"De Volta para o Futuro\", \"Zodiaco\", \"Thunderbolts\"]\n",
    "generos = [\"Drama\", \"Ação\", \"Animação\", \"Ação\",\"Ação\", \"Aventura\", \"Suspense\"]\n",
    "notas_filmes = [9.0, 9.5, 10, 5.2, 8.0, 10, 9.8, 5.5]\n",
    "\n",
    "### Seu código aquif\n",
    "for item in range(len(filmes)):\n",
    "    if notas_filmes[item] >= 7:\n",
    "        print(f\"{filmes[item]}, recomendo ele pois a nota dele é : {notas_filmes[item]}\")\n",
    "    else:\n",
    "        print(f\"{filmes[item]}, não recomendo ele pois a nota dele é : {notas_filmes[item]}\") \n",
    "        "
   ]
  },
  {
   "cell_type": "markdown",
   "id": "8c04f1b7",
   "metadata": {},
   "source": [
    "### 📊 2. Análise de Dados de Redes Sociais 📱"
   ]
  },
  {
   "cell_type": "markdown",
   "id": "939eeec4",
   "metadata": {},
   "source": [
    "Você tem uma lista de likes por postagem:\n",
    "\n",
    "Desafio:\n",
    "\n",
    "Calcule a média de likes.\n",
    "\n",
    "\n",
    "Identifique quantos posts estão acima da média e print:\n",
    "\n",
    "\n",
    "\"📈 [X] posts bombaram (+ que [média] likes)\""
   ]
  },
  {
   "cell_type": "code",
   "execution_count": 47,
   "id": "5b380686",
   "metadata": {},
   "outputs": [
    {
     "name": "stdout",
     "output_type": "stream",
     "text": [
      "Virginia teve a quantidade de 120 likes entao foi abaixo da media que era 164.0\n",
      "Carlinhos Maia teve a quantidade de 245 likes, e então ela foi acima da media que era 164.0\n",
      "Deolane teve a quantidade de 89 likes entao foi abaixo da media que era 164.0\n",
      "Poze teve a quantidade de 310 likes, e então ela foi acima da media que era 164.0\n",
      "Matheus Costa teve a quantidade de 42 likes entao foi abaixo da media que era 164.0\n",
      "Zé Felipe teve a quantidade de 178 likes, e então ela foi acima da media que era 164.0\n"
     ]
    }
   ],
   "source": [
    "## Nome dos influencers\n",
    "influencers = [\"Virginia\", \"Carlinhos Maia\", \"Deolane\", \"Poze\", \"Matheus Costa\",\"Zé Felipe\"]\n",
    "### likes por post\n",
    "like_posts = [120, 245, 89, 310, 42, 178] \n",
    "## Calcula o total de likes da lista\n",
    "total_likes = sum(like_posts)\n",
    "\n",
    "media = total_likes / 6\n",
    "# Sua vez calcule á media de likes\n",
    "# Depois veja qual influencer teve likes acima da média\n",
    "for item in range(len(influencers)):\n",
    "    if like_posts[item] >=media:\n",
    "        print(f\"{influencers[item]} teve a quantidade de {like_posts[item]} likes, e então ela foi acima da media que era {media}\")\n",
    "    else:\n",
    "        print(f\"{influencers[item]} teve a quantidade de {like_posts[item]} likes entao foi abaixo da media que era {media}\")\n"
   ]
  },
  {
   "cell_type": "markdown",
   "id": "d7cfa84f",
   "metadata": {},
   "source": [
    "### 🎯 Bônus Extra: Desafio dos Emojis Aleatórios\n",
    "\n",
    "✅ Gere uma lista de 10 emojis aleatórios (use [\"🐍\", \"🔥\", \"🎮\", \"👾\", \"🚀\"]) e:\n",
    "\n",
    "✅ Conte quantas vezes \"🔥\" aparece.\n",
    "\n",
    "\n",
    "✅ Substitua \"🎮\" por \"💻\".\n",
    "\n",
    "\n",
    "✅ Print a lista final."
   ]
  },
  {
   "cell_type": "code",
   "execution_count": 52,
   "id": "28ab2513",
   "metadata": {},
   "outputs": [
    {
     "name": "stdout",
     "output_type": "stream",
     "text": [
      "4\n",
      "['🐍', '🔥', '💻', '👾', '🚀', '🔥', '🔥', '🔥', '🔥🔥🚀🔥🔥🔥🚀🔥🔥🔥🔥👾🔥🔥🔥🔥🔥🚀🔥🔥🔥🔥🔥🔥🔥👾🔥🔥🔥🔥🔥🔥🔥🚀🔥🔥🔥', '🔥🔥']\n"
     ]
    }
   ],
   "source": [
    "lista_emojis = [\"🐍\", \"🔥\", \"🎮\", \"👾\", \"🚀\",\"🔥\",\"🔥\",\"🔥\",\"🔥🔥🚀🔥🔥🔥🚀🔥🔥🔥🔥👾🔥🔥🔥🔥🔥🚀🔥🔥🔥🔥🔥🔥🔥👾🔥🔥🔥🔥🔥🔥🔥🚀🔥🔥🔥\",\"🔥🔥\"]\n",
    "\n",
    "print ( lista_emojis.count(\"🔥\"))\n",
    "lista_emojis[2] = \"💻\"\n",
    "print(lista_emojis)"
   ]
  }
 ],
 "metadata": {
  "kernelspec": {
   "display_name": "Python 3",
   "language": "python",
   "name": "python3"
  },
  "language_info": {
   "codemirror_mode": {
    "name": "ipython",
    "version": 3
   },
   "file_extension": ".py",
   "mimetype": "text/x-python",
   "name": "python",
   "nbconvert_exporter": "python",
   "pygments_lexer": "ipython3",
   "version": "3.13.2"
  }
 },
 "nbformat": 4,
 "nbformat_minor": 5
}
