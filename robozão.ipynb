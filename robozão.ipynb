{
 "cells": [
  {
   "cell_type": "code",
   "execution_count": 1,
   "id": "4db31305",
   "metadata": {},
   "outputs": [],
   "source": [
    "import  pyautogui as aut"
   ]
  },
  {
   "cell_type": "code",
   "execution_count": 5,
   "id": "bceef050",
   "metadata": {},
   "outputs": [],
   "source": [
    "import  pyautogui as aut\n",
    "\n",
    "#pressiono a tecla de atalho win + r \n",
    "aut.hotkey(\"win\",\"r\")\n",
    "# escrever notepad\n",
    "aut.write(\"notepad\", interval=0.2 )\n",
    "# espere 1 segundo\n",
    "aut.sleep(1)\n",
    "#aperte o enter\n",
    "aut.press(\"enter\")\n",
    "aut.sleep(1)\n",
    "aut.moveTo(259,330)\n",
    "aut.click()\n",
    "aut.write(\"vou usar para ficar afk no joguinho\", interval=0.2)\n",
    "\n"
   ]
  },
  {
   "cell_type": "markdown",
   "id": "935bb25f",
   "metadata": {},
   "source": [
    "### Entrar no chrome e colocar o link da musica que vc gosta ###"
   ]
  },
  {
   "cell_type": "code",
   "execution_count": 41,
   "id": "5923ba3e",
   "metadata": {},
   "outputs": [],
   "source": [
    "aut.hotkey(\"win\")\n",
    "# escrever notepad\n",
    "aut.write(\"chrome\", interval=0.2 )\n",
    "# espere 1 segundo\n",
    "aut.sleep(1)\n",
    "#aperte o enter\n",
    "aut.press(\"enter\")\n",
    "aut.sleep(1)\n",
    "aut.moveTo(957,580)\n",
    "aut.click()\n",
    "aut.write(\"https://youtu.be/p3foJ-Wu6lM?si=0v6NRoL4gJGy3wxD\")\n",
    "aut.press(\"enter\")\n",
    "aut.moveTo(736,551)\n",
    "aut.sleep(2)\n",
    "aut.click()\n",
    "aut.sleep(2)\n",
    "aut.moveTo(1303,871)\n",
    "aut.sleep(2)\n",
    "aut.click()\n",
    "aut.sleep(2)\n",
    "\n",
    "\n"
   ]
  },
  {
   "cell_type": "markdown",
   "id": "5ac2f454",
   "metadata": {},
   "source": [
    "Pegando a posição do mouse"
   ]
  },
  {
   "cell_type": "code",
   "execution_count": 54,
   "id": "5f21388b",
   "metadata": {},
   "outputs": [],
   "source": [
    "### pegando a posição do mouse ###\n",
    "aut.mouseInfo()\n",
    "\n"
   ]
  },
  {
   "cell_type": "markdown",
   "id": "cf7a22bf",
   "metadata": {},
   "source": [
    "### pegar a nova lição no goole sala de aula e colocar no meu arquivo ###"
   ]
  },
  {
   "cell_type": "code",
   "execution_count": 13,
   "id": "1378d6c3",
   "metadata": {},
   "outputs": [],
   "source": [
    "aut.hotkey(\"win\")\n",
    "aut.write(\"chrome\")\n",
    "aut.sleep(1)\n",
    "aut.press(\"enter\")\n",
    "aut.sleep(1)\n",
    "aut.moveTo(954,572)\n",
    "aut.click()\n",
    "aut.write(\"https://classroom.google.com/c/NzAwNTU0Njc2MzY3\")\n",
    "aut.press(\"enter\")\n",
    "aut.sleep(2)\n",
    "aut.moveTo(1126,662)\n",
    "aut.sleep(3)\n",
    "aut.click()\n",
    "aut.moveTo(1508,304)\n",
    "aut.sleep(3)\n",
    "aut.click()\n",
    "aut.moveTo(959,585)\n",
    "aut.sleep(3)\n",
    "aut.click()\n",
    "aut.moveTo(1718,107)\n",
    "aut.sleep(3)\n",
    "aut.click()\n",
    "aut.moveTo(610,196)\n",
    "aut.sleep(3)\n",
    "aut.rightClick()\n",
    "aut.sleep(1.3)\n",
    "aut.moveTo(705,221)\n",
    "aut.click()\n",
    "aut.sleep(2)\n",
    "aut.moveTo(86,273)\n",
    "aut.click()\n",
    "aut.sleep(2)\n",
    "aut.moveTo(305,171)\n",
    "aut.doubleClick()\n",
    "aut.sleep(2)\n",
    "aut.moveTo(1370,247)\n",
    "aut.rightClick()\n",
    "aut.sleep(2)\n",
    "aut.moveTo(1395,268)\n",
    "aut.click()"
   ]
  },
  {
   "cell_type": "code",
   "execution_count": null,
   "id": "1336ef4b",
   "metadata": {},
   "outputs": [],
   "source": []
  },
  {
   "cell_type": "markdown",
   "id": "8a6ffe7a",
   "metadata": {},
   "source": [
    "### Calculadora com apenas 2 numeros ###\n"
   ]
  },
  {
   "cell_type": "code",
   "execution_count": 37,
   "id": "50fb10df",
   "metadata": {},
   "outputs": [],
   "source": [
    "aut.hotkey(\"win\")\n",
    "aut.write(\"calculadora\", interval=0.2 )\n",
    "aut.sleep(1)\n",
    "aut.press(\"enter\")\n",
    "aut.sleep(1)\n",
    "aut.moveTo(89,375)\n",
    "aut.click()\n",
    "aut.sleep(2)\n",
    "aut.moveTo(329,377)\n",
    "aut.click()\n",
    "aut.sleep(2)\n",
    "aut.moveTo(169,431)\n",
    "aut.click()\n",
    "aut.sleep(2)\n",
    "aut.moveTo(321,534)\n",
    "aut.click()\n"
   ]
  },
  {
   "cell_type": "code",
   "execution_count": 57,
   "id": "efcc517b",
   "metadata": {},
   "outputs": [],
   "source": [
    "\n",
    "aut.hotkey(\"win\")\n",
    "aut.write(\"Paint\", interval=0.2 ) \n",
    "aut.sleep(1)\n",
    "aut.press(\"enter\")\n",
    "aut.sleep(2)\n",
    "# Corpo da casa \n",
    "aut.moveTo(300, 300) \n",
    "aut.click()\n",
    "aut.dragTo(500, 300, duration= 0.5)\n",
    "aut.dragTo(500, 500, duration=0.5) \n",
    "aut.dragTo(300, 500, duration=0.5) \n",
    "aut.dragTo(300, 300, duration=0.5) \n",
    "\n",
    "# Telhado \n",
    "aut.moveTo(300, 300) \n",
    "aut.dragTo(400, 200, duration=0.5) \n",
    "aut.dragTo(500, 300, duration=0.5) \n",
    "aut.dragTo(300, 300, duration=0.5) \n",
    "\n",
    "# Porta\n",
    "aut.moveTo(360, 500)      \n",
    "aut.dragTo(360, 430, duration=0.5)  \n",
    "aut.dragTo(440, 430, duration=0.5) \n",
    "aut.dragTo(440, 500, duration=0.5) \n",
    "aut.dragTo(360, 500, duration=0.5)  \n",
    "\n",
    "# Janela\n",
    "aut.moveTo(310, 350)       \n",
    "aut.dragTo(360, 350, duration=0.5)  \n",
    "aut.dragTo(360, 400, duration=0.5)  \n",
    "aut.dragTo(310, 400, duration=0.5)  \n",
    "aut.dragTo(310, 350, duration=0.5)\n",
    "\n",
    "aut.moveTo(440, 350)       \n",
    "aut.dragTo(490, 350, duration=0.5)  \n",
    "aut.dragTo(490, 400, duration=0.5)  \n",
    "aut.dragTo(440, 400, duration=0.5)  \n",
    "aut.dragTo(440, 350, duration=0.5)"
   ]
  },
  {
   "cell_type": "code",
   "execution_count": null,
   "id": "9bd117dc",
   "metadata": {},
   "outputs": [],
   "source": []
  }
 ],
 "metadata": {
  "kernelspec": {
   "display_name": "Python 3",
   "language": "python",
   "name": "python3"
  },
  "language_info": {
   "codemirror_mode": {
    "name": "ipython",
    "version": 3
   },
   "file_extension": ".py",
   "mimetype": "text/x-python",
   "name": "python",
   "nbconvert_exporter": "python",
   "pygments_lexer": "ipython3",
   "version": "3.13.2"
  }
 },
 "nbformat": 4,
 "nbformat_minor": 5
}
